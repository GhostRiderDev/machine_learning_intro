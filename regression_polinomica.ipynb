{
 "cells": [
  {
   "cell_type": "code",
   "execution_count": 3,
   "metadata": {},
   "outputs": [],
   "source": [
    "import pandas as pd\n",
    "import matplotlib.pyplot as plt"
   ]
  },
  {
   "cell_type": "code",
   "execution_count": 4,
   "metadata": {},
   "outputs": [],
   "source": [
    "pos = [x for x in range(1, 11)]\n",
    "post = [\"Pasante de Desarrollo\",\n",
    " \"Desarrollador Junior\",\n",
    " \"Desarrollador Intermedio\",\n",
    " \"Desarrollador Senior\",\n",
    " \"Líder de Proyecto\",\n",
    " \"Gerente de Proyecto\",\n",
    " \"Arquitecto de Software\",\n",
    " \"Director de Desarrollo\",\n",
    " \"Director de Tecnología\",\n",
    " \"Director Ejecutivo (CEO)\"]\n",
    "salary = [1200.0, 2500.0, 4000.0, 4800.0, 6500.0, 9000.0, 12820.0, 15000.0, 25000.0, 50000.0]\n"
   ]
  }
 ],
 "metadata": {
  "kernelspec": {
   "display_name": "ml-venv",
   "language": "python",
   "name": "python3"
  },
  "language_info": {
   "codemirror_mode": {
    "name": "ipython",
    "version": 3
   },
   "file_extension": ".py",
   "mimetype": "text/x-python",
   "name": "python",
   "nbconvert_exporter": "python",
   "pygments_lexer": "ipython3",
   "version": "3.11.9"
  }
 },
 "nbformat": 4,
 "nbformat_minor": 2
}
